{
 "cells": [
  {
   "cell_type": "code",
   "execution_count": 69,
   "metadata": {
    "collapsed": true
   },
   "outputs": [],
   "source": [
    "#https://pythonprogramming.net/combine-classifier-algorithms-nltk-tutorial/?completed=/sklearn-scikit-learn-nltk-tutorial/\n",
    "from nltk.tokenize import sent_tokenize, word_tokenize\n",
    "from nltk.corpus import stopwords\n",
    "from nltk.stem import PorterStemmer"
   ]
  },
  {
   "cell_type": "code",
   "execution_count": 70,
   "metadata": {
    "collapsed": false
   },
   "outputs": [
    {
     "name": "stdout",
     "output_type": "stream",
     "text": [
      "([u'the', u'happy', u'bastard', u\"'\", u's', u'quick', u'movie', u'review', u'damn', u'that', u'y2k', u'bug', u'.', u'it', u\"'\", u's', u'got', u'a', u'head', u'start', u'in', u'this', u'movie', u'starring', u'jamie', u'lee', u'curtis', u'and', u'another', u'baldwin', u'brother', u'(', u'william', u'this', u'time', u')', u'in', u'a', u'story', u'regarding', u'a', u'crew', u'of', u'a', u'tugboat', u'that', u'comes', u'across', u'a', u'deserted', u'russian', u'tech', u'ship', u'that', u'has', u'a', u'strangeness', u'to', u'it', u'when', u'they', u'kick', u'the', u'power', u'back', u'on', u'.', u'little', u'do', u'they', u'know', u'the', u'power', u'within', u'.', u'.', u'.', u'going', u'for', u'the', u'gore', u'and', u'bringing', u'on', u'a', u'few', u'action', u'sequences', u'here', u'and', u'there', u',', u'virus', u'still', u'feels', u'very', u'empty', u',', u'like', u'a', u'movie', u'going', u'for', u'all', u'flash', u'and', u'no', u'substance', u'.', u'we', u'don', u\"'\", u't', u'know', u'why', u'the', u'crew', u'was', u'really', u'out', u'in', u'the', u'middle', u'of', u'nowhere', u',', u'we', u'don', u\"'\", u't', u'know', u'the', u'origin', u'of', u'what', u'took', u'over', u'the', u'ship', u'(', u'just', u'that', u'a', u'big', u'pink', u'flashy', u'thing', u'hit', u'the', u'mir', u')', u',', u'and', u',', u'of', u'course', u',', u'we', u'don', u\"'\", u't', u'know', u'why', u'donald', u'sutherland', u'is', u'stumbling', u'around', u'drunkenly', u'throughout', u'.', u'here', u',', u'it', u\"'\", u's', u'just', u'\"', u'hey', u',', u'let', u\"'\", u's', u'chase', u'these', u'people', u'around', u'with', u'some', u'robots', u'\"', u'.', u'the', u'acting', u'is', u'below', u'average', u',', u'even', u'from', u'the', u'likes', u'of', u'curtis', u'.', u'you', u\"'\", u're', u'more', u'likely', u'to', u'get', u'a', u'kick', u'out', u'of', u'her', u'work', u'in', u'halloween', u'h20', u'.', u'sutherland', u'is', u'wasted', u'and', u'baldwin', u',', u'well', u',', u'he', u\"'\", u's', u'acting', u'like', u'a', u'baldwin', u',', u'of', u'course', u'.', u'the', u'real', u'star', u'here', u'are', u'stan', u'winston', u\"'\", u's', u'robot', u'design', u',', u'some', u'schnazzy', u'cgi', u',', u'and', u'the', u'occasional', u'good', u'gore', u'shot', u',', u'like', u'picking', u'into', u'someone', u\"'\", u's', u'brain', u'.', u'so', u',', u'if', u'robots', u'and', u'body', u'parts', u'really', u'turn', u'you', u'on', u',', u'here', u\"'\", u's', u'your', u'movie', u'.', u'otherwise', u',', u'it', u\"'\", u's', u'pretty', u'much', u'a', u'sunken', u'ship', u'of', u'a', u'movie', u'.'], u'neg')\n"
     ]
    }
   ],
   "source": [
    "import nltk\n",
    "import random\n",
    "from nltk.corpus import movie_reviews\n",
    "from nltk.classify.scikitlearn import SklearnClassifier\n",
    "\n",
    "from sklearn.naive_bayes import MultinomialNB, BernoulliNB\n",
    "from sklearn.linear_model import LogisticRegression, SGDClassifier\n",
    "from sklearn.svm import SVC, LinearSVC, NuSVC\n",
    "\n",
    "from nltk.classify import ClassifierI\n",
    "from statistics import mode\n",
    "\n",
    "class VoteClassifier(ClassifierI):\n",
    "    def __init__(self, *classifiers):\n",
    "        self._classifiers = classifiers\n",
    "        \n",
    "    def classify(self, features):\n",
    "        votes = []\n",
    "        for c in self._classifiers:\n",
    "            v = c.classify(features)\n",
    "            votes.append(v)\n",
    "        return mode(votes)\n",
    "    \n",
    "    def confidence(self, features):\n",
    "        votes = []\n",
    "        for c in self._classifiers:\n",
    "            v = c.classify(features)\n",
    "            votes.append(v)\n",
    "        \n",
    "        choice_votes = votes.count(mode(votes))\n",
    "        conf = choice_votes / len(votes)\n",
    "        return conf\n",
    "\n",
    "documents = [(list(movie_reviews.words(fileid)), category)\n",
    "             for category in movie_reviews.categories()\n",
    "             for fileid in movie_reviews.fileids(category)]\n",
    "\n",
    "print documents[1]\n",
    "random.shuffle(documents)\n",
    "\n",
    "all_words = []\n",
    "\n",
    "for w in movie_reviews.words():\n",
    "    all_words.append(w.lower())\n",
    "    \n",
    "all_words = nltk.FreqDist(all_words)\n",
    "\n",
    "word_features = list(all_words.keys())[:3000]\n",
    "#print (word_features)\n"
   ]
  },
  {
   "cell_type": "code",
   "execution_count": 71,
   "metadata": {
    "collapsed": false
   },
   "outputs": [],
   "source": [
    "def find_features(document):\n",
    "    words = set(document)\n",
    "    features = {}\n",
    "    for w in word_features:\n",
    "        features[w] = (w in words)\n",
    "    return features\n",
    "\n",
    "featuresets = [(find_features(rev), category) for (rev, category) in documents]\n",
    "\n",
    "training_set = featuresets[:1900]\n",
    "testing_set = featuresets[1900:]\n",
    "#print training_set[0]\n",
    "#print testing_set[0]"
   ]
  },
  {
   "cell_type": "code",
   "execution_count": 72,
   "metadata": {
    "collapsed": false
   },
   "outputs": [
    {
     "name": "stdout",
     "output_type": "stream",
     "text": [
      "('NB Classifier Accuracy percent:', 71.0)\n",
      "Most Informative Features\n",
      "               insulting = True              neg : pos    =     16.7 : 1.0\n",
      "                    sans = True              neg : pos    =      8.2 : 1.0\n",
      "            refreshingly = True              pos : neg    =      7.8 : 1.0\n",
      "              mediocrity = True              neg : pos    =      7.5 : 1.0\n",
      "                 wasting = True              neg : pos    =      7.5 : 1.0\n",
      "               dismissed = True              pos : neg    =      7.1 : 1.0\n",
      "                  fabric = True              pos : neg    =      6.5 : 1.0\n",
      "             overwhelmed = True              pos : neg    =      6.5 : 1.0\n",
      "             bruckheimer = True              neg : pos    =      6.2 : 1.0\n",
      "              unoriginal = True              neg : pos    =      6.1 : 1.0\n",
      "                  doubts = True              pos : neg    =      5.9 : 1.0\n",
      "                    lang = True              pos : neg    =      5.8 : 1.0\n",
      "                 topping = True              pos : neg    =      5.8 : 1.0\n",
      "                     ugh = True              neg : pos    =      5.7 : 1.0\n",
      "                  stinks = True              neg : pos    =      5.7 : 1.0\n",
      "                  bounce = True              neg : pos    =      5.6 : 1.0\n",
      "                   wires = True              neg : pos    =      5.6 : 1.0\n",
      "            effortlessly = True              pos : neg    =      5.4 : 1.0\n",
      "               uplifting = True              pos : neg    =      5.4 : 1.0\n",
      "                  wasted = True              neg : pos    =      5.2 : 1.0\n",
      "('MNB Classifier Accuracy percent:', 74.0)\n",
      "('Bernoulli NB Classifier Accuracy percent:', 71.0)\n",
      "('Logistic Regression Classifier Accuracy percent:', 70.0)\n",
      "('SGDClassifier_classifier Accuracy percent:', 74.0)\n",
      "('SVC Classifier Accuracy percent:', 41.0)\n",
      "('LinearSVC Classifier Accuracy percent:', 61.0)\n",
      "('NuSVC Classifier Accuracy percent:', 71.0)\n"
     ]
    }
   ],
   "source": [
    "NB_classifier = nltk.NaiveBayesClassifier.train(training_set)\n",
    "print (\"NB Classifier Accuracy percent:\", (nltk.classify.accuracy(NB_classifier, testing_set))*100)\n",
    "NB_classifier.show_most_informative_features(20)\n",
    "\n",
    "MNB_classifier = SklearnClassifier(MultinomialNB())\n",
    "MNB_classifier.train(training_set)\n",
    "print (\"MNB Classifier Accuracy percent:\", (nltk.classify.accuracy(MNB_classifier, testing_set))*100)\n",
    "\n",
    "BernoulliNB_classifier = SklearnClassifier(BernoulliNB())\n",
    "BernoulliNB_classifier.train(training_set)\n",
    "print (\"Bernoulli NB Classifier Accuracy percent:\", (nltk.classify.accuracy(BernoulliNB_classifier, testing_set))*100)\n",
    "\n",
    "LogisticRegression_classifier = SklearnClassifier(LogisticRegression())\n",
    "LogisticRegression_classifier.train(training_set)\n",
    "print (\"Logistic Regression Classifier Accuracy percent:\", (nltk.classify.accuracy(LogisticRegression_classifier, testing_set))*100)\n",
    "\n",
    "SGDClassifier_classifier = SklearnClassifier(SGDClassifier())\n",
    "SGDClassifier_classifier.train(training_set)\n",
    "print (\"SGDClassifier_classifier Accuracy percent:\", (nltk.classify.accuracy(SGDClassifier_classifier, testing_set))*100)\n",
    "\n",
    "SVC_classifier = SklearnClassifier(SVC())\n",
    "SVC_classifier.train(training_set)\n",
    "print (\"SVC Classifier Accuracy percent:\", (nltk.classify.accuracy(SVC_classifier, testing_set))*100)\n",
    "\n",
    "LinearSVC_classifier = SklearnClassifier(LinearSVC())\n",
    "LinearSVC_classifier.train(training_set)\n",
    "print (\"LinearSVC Classifier Accuracy percent:\", (nltk.classify.accuracy(LinearSVC_classifier, testing_set))*100)\n",
    "\n",
    "NuSVC_classifier = SklearnClassifier(NuSVC())\n",
    "NuSVC_classifier.train(training_set)\n",
    "print (\"NuSVC Classifier Accuracy percent:\", (nltk.classify.accuracy(NuSVC_classifier, testing_set))*100)\n",
    "\n"
   ]
  },
  {
   "cell_type": "code",
   "execution_count": 73,
   "metadata": {
    "collapsed": false
   },
   "outputs": [
    {
     "name": "stdout",
     "output_type": "stream",
     "text": [
      "('Voted Classifier Accuracy Percent: ', 71.0)\n",
      "('Classification:', u'neg', 'Confidence %:', 100)\n",
      "('Classification:', u'pos', 'Confidence %:', 0)\n",
      "('Classification:', u'neg', 'Confidence %:', 100)\n",
      "('Classification:', u'neg', 'Confidence %:', 100)\n",
      "('Classification:', u'pos', 'Confidence %:', 0)\n",
      "('Classification:', u'neg', 'Confidence %:', 0)\n"
     ]
    }
   ],
   "source": [
    "voted_classifier = VoteClassifier(NB_classifier,\n",
    "                                  NuSVC_classifier,\n",
    "                                  LinearSVC_classifier,\n",
    "                                  SGDClassifier_classifier,\n",
    "                                  MNB_classifier, \n",
    "                                  BernoulliNB_classifier,\n",
    "                                  LogisticRegression_classifier)\n",
    "\n",
    "print(\"Voted Classifier Accuracy Percent: \", (nltk.classify.accuracy(voted_classifier, testing_set))*100)\n",
    "\n",
    "print(\"Classification:\", voted_classifier.classify(testing_set[0][0]), \"Confidence %:\", voted_classifier.confidence(testing_set[0][0])*100)\n",
    "print(\"Classification:\", voted_classifier.classify(testing_set[1][0]), \"Confidence %:\", voted_classifier.confidence(testing_set[1][0])*100)\n",
    "print(\"Classification:\", voted_classifier.classify(testing_set[2][0]), \"Confidence %:\", voted_classifier.confidence(testing_set[2][0])*100)\n",
    "print(\"Classification:\", voted_classifier.classify(testing_set[3][0]), \"Confidence %:\", voted_classifier.confidence(testing_set[3][0])*100)\n",
    "print(\"Classification:\", voted_classifier.classify(testing_set[4][0]), \"Confidence %:\", voted_classifier.confidence(testing_set[4][0])*100)\n",
    "print(\"Classification:\", voted_classifier.classify(testing_set[5][0]), \"Confidence %:\", voted_classifier.confidence(testing_set[5][0])*100)\n"
   ]
  },
  {
   "cell_type": "code",
   "execution_count": null,
   "metadata": {
    "collapsed": true
   },
   "outputs": [],
   "source": []
  }
 ],
 "metadata": {
  "kernelspec": {
   "display_name": "Python 2",
   "language": "python",
   "name": "python2"
  },
  "language_info": {
   "codemirror_mode": {
    "name": "ipython",
    "version": 2
   },
   "file_extension": ".py",
   "mimetype": "text/x-python",
   "name": "python",
   "nbconvert_exporter": "python",
   "pygments_lexer": "ipython2",
   "version": "2.7.13"
  }
 },
 "nbformat": 4,
 "nbformat_minor": 2
}
